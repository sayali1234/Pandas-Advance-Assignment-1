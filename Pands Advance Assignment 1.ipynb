{
 "cells": [
  {
   "cell_type": "markdown",
   "id": "c3e82855-c517-409d-895e-4930a6993b3a",
   "metadata": {},
   "source": [
    "Q1) List any five functions of the pandas library with execution."
   ]
  },
  {
   "cell_type": "code",
   "execution_count": null,
   "id": "b173c57a-9f8f-417e-8442-8f43aeec4ff7",
   "metadata": {},
   "outputs": [],
   "source": [
    "Here are five functions of the Pandas library with example code:\n",
    "\n",
    "1)The DataFrame() function creates a pandas DataFrame, which is a 2-dimensional labeled data structure with columns of potentially different types. The DataFrame\n",
    "can be created from a variety of sources, such as a dictionary, a NumPy array, or a CSV file.\n",
    "Example:"
   ]
  },
  {
   "cell_type": "code",
   "execution_count": 1,
   "id": "b277baca-bfcb-4ede-970a-3a74ddd09ce5",
   "metadata": {},
   "outputs": [
    {
     "data": {
      "text/html": [
       "<div>\n",
       "<style scoped>\n",
       "    .dataframe tbody tr th:only-of-type {\n",
       "        vertical-align: middle;\n",
       "    }\n",
       "\n",
       "    .dataframe tbody tr th {\n",
       "        vertical-align: top;\n",
       "    }\n",
       "\n",
       "    .dataframe thead th {\n",
       "        text-align: right;\n",
       "    }\n",
       "</style>\n",
       "<table border=\"1\" class=\"dataframe\">\n",
       "  <thead>\n",
       "    <tr style=\"text-align: right;\">\n",
       "      <th></th>\n",
       "      <th>Name</th>\n",
       "      <th>Age</th>\n",
       "    </tr>\n",
       "  </thead>\n",
       "  <tbody>\n",
       "    <tr>\n",
       "      <th>0</th>\n",
       "      <td>tom</td>\n",
       "      <td>25</td>\n",
       "    </tr>\n",
       "    <tr>\n",
       "      <th>1</th>\n",
       "      <td>krish</td>\n",
       "      <td>30</td>\n",
       "    </tr>\n",
       "    <tr>\n",
       "      <th>2</th>\n",
       "      <td>nick</td>\n",
       "      <td>26</td>\n",
       "    </tr>\n",
       "    <tr>\n",
       "      <th>3</th>\n",
       "      <td>juli</td>\n",
       "      <td>22</td>\n",
       "    </tr>\n",
       "  </tbody>\n",
       "</table>\n",
       "</div>"
      ],
      "text/plain": [
       "    Name  Age\n",
       "0    tom   25\n",
       "1  krish   30\n",
       "2   nick   26\n",
       "3   juli   22"
      ]
     },
     "execution_count": 1,
     "metadata": {},
     "output_type": "execute_result"
    }
   ],
   "source": [
    "import pandas as pd\n",
    "\n",
    "# Creating a DataFrame from a dictionary\n",
    "data = {\"Name\": ['tom', 'krish', 'nick', 'juli'], \"Age\": [25, 30,26,22]}\n",
    "df = pd.DataFrame(data)\n",
    "df"
   ]
  },
  {
   "cell_type": "code",
   "execution_count": null,
   "id": "4b6ec8ed-865c-4145-9516-fce58b855d67",
   "metadata": {},
   "outputs": [],
   "source": [
    "2)describe(): The describe() function generates descriptive statistics of a pandas DataFrame, such as count, mean, standard deviation, and more. This function is\n",
    "useful for quickly understanding the distribution and range of values in a dataset.\n",
    "Example:"
   ]
  },
  {
   "cell_type": "code",
   "execution_count": 2,
   "id": "a3b9b360-df52-48ec-bc08-a3f2954e7ee7",
   "metadata": {},
   "outputs": [
    {
     "data": {
      "text/html": [
       "<div>\n",
       "<style scoped>\n",
       "    .dataframe tbody tr th:only-of-type {\n",
       "        vertical-align: middle;\n",
       "    }\n",
       "\n",
       "    .dataframe tbody tr th {\n",
       "        vertical-align: top;\n",
       "    }\n",
       "\n",
       "    .dataframe thead th {\n",
       "        text-align: right;\n",
       "    }\n",
       "</style>\n",
       "<table border=\"1\" class=\"dataframe\">\n",
       "  <thead>\n",
       "    <tr style=\"text-align: right;\">\n",
       "      <th></th>\n",
       "      <th>Age</th>\n",
       "    </tr>\n",
       "  </thead>\n",
       "  <tbody>\n",
       "    <tr>\n",
       "      <th>count</th>\n",
       "      <td>4.000000</td>\n",
       "    </tr>\n",
       "    <tr>\n",
       "      <th>mean</th>\n",
       "      <td>25.750000</td>\n",
       "    </tr>\n",
       "    <tr>\n",
       "      <th>std</th>\n",
       "      <td>3.304038</td>\n",
       "    </tr>\n",
       "    <tr>\n",
       "      <th>min</th>\n",
       "      <td>22.000000</td>\n",
       "    </tr>\n",
       "    <tr>\n",
       "      <th>25%</th>\n",
       "      <td>24.250000</td>\n",
       "    </tr>\n",
       "    <tr>\n",
       "      <th>50%</th>\n",
       "      <td>25.500000</td>\n",
       "    </tr>\n",
       "    <tr>\n",
       "      <th>75%</th>\n",
       "      <td>27.000000</td>\n",
       "    </tr>\n",
       "    <tr>\n",
       "      <th>max</th>\n",
       "      <td>30.000000</td>\n",
       "    </tr>\n",
       "  </tbody>\n",
       "</table>\n",
       "</div>"
      ],
      "text/plain": [
       "             Age\n",
       "count   4.000000\n",
       "mean   25.750000\n",
       "std     3.304038\n",
       "min    22.000000\n",
       "25%    24.250000\n",
       "50%    25.500000\n",
       "75%    27.000000\n",
       "max    30.000000"
      ]
     },
     "execution_count": 2,
     "metadata": {},
     "output_type": "execute_result"
    }
   ],
   "source": [
    "# Generating descriptive statistics of a DataFrame\n",
    "df.describe()"
   ]
  },
  {
   "cell_type": "code",
   "execution_count": null,
   "id": "3d11c807-8045-49c7-8635-bb9525be86b7",
   "metadata": {},
   "outputs": [],
   "source": [
    "3) nunique() - This function in Pandas is used to get a count of unique values for each column in a DataFrame. It returns a Pandas Series containing the number of\n",
    "unique values for each column in the DataFrame."
   ]
  },
  {
   "cell_type": "code",
   "execution_count": 3,
   "id": "68645dc8-0cf8-4c92-8f6f-04b833929a7f",
   "metadata": {},
   "outputs": [
    {
     "data": {
      "text/plain": [
       "Name    4\n",
       "Age     4\n",
       "dtype: int64"
      ]
     },
     "execution_count": 3,
     "metadata": {},
     "output_type": "execute_result"
    }
   ],
   "source": [
    "df.nunique()"
   ]
  },
  {
   "cell_type": "code",
   "execution_count": null,
   "id": "3a3d2169-6fb7-4e47-9391-c5db883a2ed5",
   "metadata": {},
   "outputs": [],
   "source": [
    "4) info(): This function is used to print a summary of a DataFrame, including information about the data types, number of non-null values, and memory usage."
   ]
  },
  {
   "cell_type": "code",
   "execution_count": 4,
   "id": "1018ed0d-79e5-43ef-8cfd-a972659640c2",
   "metadata": {},
   "outputs": [
    {
     "name": "stdout",
     "output_type": "stream",
     "text": [
      "<class 'pandas.core.frame.DataFrame'>\n",
      "RangeIndex: 4 entries, 0 to 3\n",
      "Data columns (total 2 columns):\n",
      " #   Column  Non-Null Count  Dtype \n",
      "---  ------  --------------  ----- \n",
      " 0   Name    4 non-null      object\n",
      " 1   Age     4 non-null      int64 \n",
      "dtypes: int64(1), object(1)\n",
      "memory usage: 192.0+ bytes\n"
     ]
    }
   ],
   "source": [
    "df.info()"
   ]
  },
  {
   "cell_type": "code",
   "execution_count": null,
   "id": "72e06fb5-90d3-4a7e-8f57-9267cfbaa93c",
   "metadata": {},
   "outputs": [],
   "source": [
    "5)pivot_table(): This function is used to create a spreadsheet-style pivot table based on a Pandas DataFrame, which is useful for summarizing and aggregating data.\n",
    "Example"
   ]
  },
  {
   "cell_type": "code",
   "execution_count": 5,
   "id": "f71051cf-8415-4351-897d-8fbb445ff7de",
   "metadata": {},
   "outputs": [
    {
     "data": {
      "text/html": [
       "<div>\n",
       "<style scoped>\n",
       "    .dataframe tbody tr th:only-of-type {\n",
       "        vertical-align: middle;\n",
       "    }\n",
       "\n",
       "    .dataframe tbody tr th {\n",
       "        vertical-align: top;\n",
       "    }\n",
       "\n",
       "    .dataframe thead th {\n",
       "        text-align: right;\n",
       "    }\n",
       "</style>\n",
       "<table border=\"1\" class=\"dataframe\">\n",
       "  <thead>\n",
       "    <tr style=\"text-align: right;\">\n",
       "      <th></th>\n",
       "      <th></th>\n",
       "      <th>Salary</th>\n",
       "    </tr>\n",
       "    <tr>\n",
       "      <th>Sex</th>\n",
       "      <th>Age</th>\n",
       "      <th></th>\n",
       "    </tr>\n",
       "  </thead>\n",
       "  <tbody>\n",
       "    <tr>\n",
       "      <th>F</th>\n",
       "      <th>25</th>\n",
       "      <td>52500</td>\n",
       "    </tr>\n",
       "    <tr>\n",
       "      <th rowspan=\"3\" valign=\"top\">M</th>\n",
       "      <th>30</th>\n",
       "      <td>62500</td>\n",
       "    </tr>\n",
       "    <tr>\n",
       "      <th>35</th>\n",
       "      <td>70000</td>\n",
       "    </tr>\n",
       "    <tr>\n",
       "      <th>40</th>\n",
       "      <td>80000</td>\n",
       "    </tr>\n",
       "  </tbody>\n",
       "</table>\n",
       "</div>"
      ],
      "text/plain": [
       "         Salary\n",
       "Sex Age        \n",
       "F   25    52500\n",
       "M   30    62500\n",
       "    35    70000\n",
       "    40    80000"
      ]
     },
     "execution_count": 5,
     "metadata": {},
     "output_type": "execute_result"
    }
   ],
   "source": [
    "# Creating a DataFrame\n",
    "data = {\"Name\": [\"Alice\", \"Bob\", \"Charlie\", \"David\", \"Ella\", \"Frank\"],\n",
    "        \"Sex\": [\"F\", \"M\", \"M\", \"M\", \"F\", \"M\"],\n",
    "        \"Age\": [25, 30, 35, 40, 25, 30],\n",
    "        \"Salary\": [50000, 60000, 70000, 80000, 55000, 65000]}\n",
    "df = pd.DataFrame(data)\n",
    "\n",
    "# Creating a pivot table\n",
    "pivot_df = pd.pivot_table(df, index=[\"Sex\", \"Age\"], values=\"Salary\", aggfunc=\"mean\")\n",
    "\n",
    "pivot_df"
   ]
  },
  {
   "cell_type": "code",
   "execution_count": null,
   "id": "66b9a2c5-315e-48f2-a96a-22224fdbe455",
   "metadata": {},
   "outputs": [],
   "source": [
    "6)merge(): The merge() function merges two pandas DataFrames based on one or more common columns. This function is useful for combining data from multiple sources\n",
    "based on a shared key.\n",
    "\n",
    "Example:"
   ]
  },
  {
   "cell_type": "code",
   "execution_count": 6,
   "id": "d2489135-f832-42f6-b2b0-212430529283",
   "metadata": {},
   "outputs": [
    {
     "data": {
      "text/html": [
       "<div>\n",
       "<style scoped>\n",
       "    .dataframe tbody tr th:only-of-type {\n",
       "        vertical-align: middle;\n",
       "    }\n",
       "\n",
       "    .dataframe tbody tr th {\n",
       "        vertical-align: top;\n",
       "    }\n",
       "\n",
       "    .dataframe thead th {\n",
       "        text-align: right;\n",
       "    }\n",
       "</style>\n",
       "<table border=\"1\" class=\"dataframe\">\n",
       "  <thead>\n",
       "    <tr style=\"text-align: right;\">\n",
       "      <th></th>\n",
       "      <th>Name</th>\n",
       "      <th>Age</th>\n",
       "      <th>Salary</th>\n",
       "    </tr>\n",
       "  </thead>\n",
       "  <tbody>\n",
       "    <tr>\n",
       "      <th>0</th>\n",
       "      <td>Bob</td>\n",
       "      <td>30</td>\n",
       "      <td>50000</td>\n",
       "    </tr>\n",
       "  </tbody>\n",
       "</table>\n",
       "</div>"
      ],
      "text/plain": [
       "  Name  Age  Salary\n",
       "0  Bob   30   50000"
      ]
     },
     "execution_count": 6,
     "metadata": {},
     "output_type": "execute_result"
    }
   ],
   "source": [
    "# Creating two DataFrames\n",
    "df1 = pd.DataFrame({\"Name\": [\"Alice\", \"Bob\"], \"Age\": [25, 30]})\n",
    "df2 = pd.DataFrame({\"Name\": [\"Bob\", \"Charlie\"], \"Salary\": [50000, 60000]})\n",
    "\n",
    "# Merging two DataFrames based on a common column\n",
    "merged_df = pd.merge(df1, df2, on=\"Name\")\n",
    "merged_df"
   ]
  },
  {
   "cell_type": "markdown",
   "id": "23be9c8d-2486-4157-8c8f-0bb05fc530e5",
   "metadata": {},
   "source": [
    "Q2) Given a Pandas DataFrame df with columns 'A', 'B', and 'C', write a Python function to re-index the\n",
    "DataFrame with a new index that starts from 1 and increments by 2 for each row."
   ]
  },
  {
   "cell_type": "code",
   "execution_count": null,
   "id": "f442029c-aab8-4f2a-8a7e-ecdd4dc33ae9",
   "metadata": {},
   "outputs": [],
   "source": [
    "Here's a Python function that re-indexes the DataFrame df with a new index that starts from 1 and increments by 2 for each row:"
   ]
  },
  {
   "cell_type": "code",
   "execution_count": 7,
   "id": "3c2ddb69-2521-4205-bdba-2c3421da881f",
   "metadata": {},
   "outputs": [],
   "source": [
    "# Creating a custom function for generating the dataframe as mentioned above\n",
    "def reindex_dataframe(df):\n",
    "    new_index = range(1, len(df)+1, 2) # create new index starting from 1 and incrementing by 2\n",
    "    df = df.reindex(new_index) # re-index the DataFrame with the new index\n",
    "    return df"
   ]
  },
  {
   "cell_type": "code",
   "execution_count": 8,
   "id": "d84bc050-39d3-45a7-8042-034a4f0e2f80",
   "metadata": {},
   "outputs": [
    {
     "data": {
      "text/html": [
       "<div>\n",
       "<style scoped>\n",
       "    .dataframe tbody tr th:only-of-type {\n",
       "        vertical-align: middle;\n",
       "    }\n",
       "\n",
       "    .dataframe tbody tr th {\n",
       "        vertical-align: top;\n",
       "    }\n",
       "\n",
       "    .dataframe thead th {\n",
       "        text-align: right;\n",
       "    }\n",
       "</style>\n",
       "<table border=\"1\" class=\"dataframe\">\n",
       "  <thead>\n",
       "    <tr style=\"text-align: right;\">\n",
       "      <th></th>\n",
       "      <th>A</th>\n",
       "      <th>B</th>\n",
       "      <th>C</th>\n",
       "    </tr>\n",
       "  </thead>\n",
       "  <tbody>\n",
       "    <tr>\n",
       "      <th>0</th>\n",
       "      <td>X</td>\n",
       "      <td>True</td>\n",
       "      <td>1</td>\n",
       "    </tr>\n",
       "    <tr>\n",
       "      <th>1</th>\n",
       "      <td>Y</td>\n",
       "      <td>False</td>\n",
       "      <td>2</td>\n",
       "    </tr>\n",
       "    <tr>\n",
       "      <th>2</th>\n",
       "      <td>Z</td>\n",
       "      <td>True</td>\n",
       "      <td>3</td>\n",
       "    </tr>\n",
       "    <tr>\n",
       "      <th>3</th>\n",
       "      <td>A</td>\n",
       "      <td>True</td>\n",
       "      <td>4</td>\n",
       "    </tr>\n",
       "    <tr>\n",
       "      <th>4</th>\n",
       "      <td>B</td>\n",
       "      <td>True</td>\n",
       "      <td>5</td>\n",
       "    </tr>\n",
       "    <tr>\n",
       "      <th>5</th>\n",
       "      <td>C</td>\n",
       "      <td>False</td>\n",
       "      <td>6</td>\n",
       "    </tr>\n",
       "  </tbody>\n",
       "</table>\n",
       "</div>"
      ],
      "text/plain": [
       "   A      B  C\n",
       "0  X   True  1\n",
       "1  Y  False  2\n",
       "2  Z   True  3\n",
       "3  A   True  4\n",
       "4  B   True  5\n",
       "5  C  False  6"
      ]
     },
     "execution_count": 8,
     "metadata": {},
     "output_type": "execute_result"
    }
   ],
   "source": [
    "# create sample DataFrame\n",
    "df = pd.DataFrame({'A': ['X', 'Y', 'Z', 'A','B','C'], 'B': [True, False,True, True, True, False], 'C': [1, 2, 3, 4, 5, 6]})\n",
    "\n",
    "# Showing orignal DataFrame\n",
    "df"
   ]
  },
  {
   "cell_type": "code",
   "execution_count": 9,
   "id": "a0e0764e-71bc-4937-9c04-82bd6fca61b2",
   "metadata": {},
   "outputs": [
    {
     "data": {
      "text/html": [
       "<div>\n",
       "<style scoped>\n",
       "    .dataframe tbody tr th:only-of-type {\n",
       "        vertical-align: middle;\n",
       "    }\n",
       "\n",
       "    .dataframe tbody tr th {\n",
       "        vertical-align: top;\n",
       "    }\n",
       "\n",
       "    .dataframe thead th {\n",
       "        text-align: right;\n",
       "    }\n",
       "</style>\n",
       "<table border=\"1\" class=\"dataframe\">\n",
       "  <thead>\n",
       "    <tr style=\"text-align: right;\">\n",
       "      <th></th>\n",
       "      <th>A</th>\n",
       "      <th>B</th>\n",
       "      <th>C</th>\n",
       "    </tr>\n",
       "  </thead>\n",
       "  <tbody>\n",
       "    <tr>\n",
       "      <th>1</th>\n",
       "      <td>Y</td>\n",
       "      <td>False</td>\n",
       "      <td>2</td>\n",
       "    </tr>\n",
       "    <tr>\n",
       "      <th>3</th>\n",
       "      <td>A</td>\n",
       "      <td>True</td>\n",
       "      <td>4</td>\n",
       "    </tr>\n",
       "    <tr>\n",
       "      <th>5</th>\n",
       "      <td>C</td>\n",
       "      <td>False</td>\n",
       "      <td>6</td>\n",
       "    </tr>\n",
       "  </tbody>\n",
       "</table>\n",
       "</div>"
      ],
      "text/plain": [
       "   A      B  C\n",
       "1  Y  False  2\n",
       "3  A   True  4\n",
       "5  C  False  6"
      ]
     },
     "execution_count": 9,
     "metadata": {},
     "output_type": "execute_result"
    }
   ],
   "source": [
    "# re-index the DataFrame\n",
    "df_reindexed = reindex_dataframe(df)\n",
    "\n",
    "# print the re-indexed DataFrame\n",
    "df_reindexed"
   ]
  },
  {
   "cell_type": "markdown",
   "id": "45355b12-c350-4f15-95b1-4b99499cb195",
   "metadata": {},
   "source": [
    "Q3) You have a Pandas DataFrame df with a column named 'Values'. Write a Python function that\n",
    "iterates over the DataFrame and calculates the sum of the first three values in the 'Values' column. The\n",
    "function should print the sum to the console.\n",
    "For example, if the 'Values' column of df contains the values [10, 20, 30, 40, 50], your function should\n",
    "calculate and print the sum of the first three values, which is 60."
   ]
  },
  {
   "cell_type": "code",
   "execution_count": 10,
   "id": "1ef818ba-17e1-46e3-ab67-ff294e692f28",
   "metadata": {},
   "outputs": [
    {
     "name": "stdout",
     "output_type": "stream",
     "text": [
      "The sum of the first three values in the 'Values' column is 60.\n"
     ]
    }
   ],
   "source": [
    "import pandas as pd\n",
    "\n",
    "#Functin for priting the sum\n",
    "def sum_first_three_values(df):\n",
    "    values_col = df['Values']\n",
    "    first_three_values = values_col.iloc[:3]\n",
    "    sum_first_three = sum(first_three_values)\n",
    "    print(f\"The sum of the first three values in the 'Values' column is {sum_first_three}.\")\n",
    "    \n",
    "#Driver Code\n",
    "# Creating a sample DataFrame\n",
    "df = pd.DataFrame({'Values': [10, 20, 30, 40, 50]})\n",
    "\n",
    "# Calculating the sum of the first three values in the 'Values' column using the sum_first_three_values() function\n",
    "sum_first_three_values(df)"
   ]
  },
  {
   "cell_type": "markdown",
   "id": "670d5194-9d22-4e10-985f-f04ea7605b48",
   "metadata": {},
   "source": [
    "Q4) Given a Pandas DataFrame df with a column 'Text', write a Python function to create a new column\n",
    "'Word_Count' that contains the number of words in each row of the 'Text' column."
   ]
  },
  {
   "cell_type": "code",
   "execution_count": null,
   "id": "940a4da1-e3f4-4ffe-94c9-578cece7550f",
   "metadata": {},
   "outputs": [],
   "source": [
    "Here's an example code to create a Pandas DataFrame df with a 'Text' column and then add a new column 'Word_Count' that contains the number of words in each row \n",
    "of the 'Text' column:"
   ]
  },
  {
   "cell_type": "code",
   "execution_count": 11,
   "id": "fdb112f6-8c58-4e93-ba4e-9628fb237cd2",
   "metadata": {},
   "outputs": [
    {
     "name": "stdout",
     "output_type": "stream",
     "text": [
      "                                Text  Word_Count\n",
      "0          This is a sample sentence           5\n",
      "1           Here is another sentence           4\n",
      "2  One more sentence for the example           6\n"
     ]
    }
   ],
   "source": [
    "import pandas as pd\n",
    "\n",
    "# Function to add 'Word_Count' column to the DataFrame\n",
    "def add_word_count_column(df):\n",
    "    # Split the 'Text' column on whitespace characters and count the resulting list\n",
    "    word_count = df['Text'].str.split().apply(len)\n",
    "\n",
    "    # Add the new 'Word_Count' column to the DataFrame\n",
    "    df['Word_Count'] = word_count\n",
    "    return df\n",
    "\n",
    "#Driver code\n",
    "# Creating a sample DataFrame\n",
    "df = pd.DataFrame({'Text': ['This is a sample sentence',\n",
    "                            'Here is another sentence',\n",
    "                            'One more sentence for the example']})\n",
    "\n",
    "# Adding 'Word_Count' column to the DataFrame\n",
    "df = add_word_count_column(df)\n",
    "\n",
    "# Displaying the updated DataFrame\n",
    "print(df)"
   ]
  },
  {
   "cell_type": "code",
   "execution_count": null,
   "id": "8367d1f4-7104-4a6f-8ad4-2436b12bc02a",
   "metadata": {},
   "outputs": [],
   "source": [
    "In this example code, we first create a sample DataFrame df with a 'Text' column containing three sample sentences. We then define a function named \n",
    "add_word_count_column that takes a DataFrame df as an argument and adds a new column 'Word_Count' to it.\n",
    "\n",
    "Inside the function, we use the str.split() method to split each row of the 'Text' column on whitespace characters, resulting in a new pandas Series object where\n",
    "each element is a list of words. We then use the apply() method with the built-in len() function to count the number of words in each list and return a new pandas\n",
    "Series object containing those counts.\n",
    "\n",
    "Finally, we add the new 'Word_Count' column to the original DataFrame df using the df['Word_Count'] = word_count syntax. We then return the modified DataFrame.\n",
    "\n",
    "After defining the function, we call it on the original DataFrame df to add the 'Word_Count' column to it. We then print the updated DataFrame to verify that the\n",
    "new column has been added."
   ]
  },
  {
   "cell_type": "markdown",
   "id": "e8670755-693d-43c7-a67b-4bfd4dda5578",
   "metadata": {},
   "source": [
    "Q5) How are DataFrame.size() and DataFrame.shape() different?"
   ]
  },
  {
   "cell_type": "code",
   "execution_count": null,
   "id": "cc73ea56-7c7e-4e07-b9db-d38ea451e866",
   "metadata": {},
   "outputs": [],
   "source": [
    "Both DataFrame.size and DataFrame.shape are attributes of a Pandas DataFrame, but they return different values.\n",
    "\n",
    "1) DataFrame.size : returns the total number of elements in the DataFrame, which is the product of the number of rows and columns. It is equivalent to the size of\n",
    "the underlying NumPy array.\n",
    "\n",
    "2) DataFrame.shape : returns a tuple containing the number of rows and columns in the DataFrame, respectively. It is a convenient way to check the dimensions of\n",
    "the DataFrame.\n",
    "\n",
    "Here's an example that demonstrates the difference between DataFrame.size and DataFrame.shape:"
   ]
  },
  {
   "cell_type": "code",
   "execution_count": 12,
   "id": "2bc7799d-094c-4b81-89a2-c0012edf961e",
   "metadata": {},
   "outputs": [
    {
     "name": "stdout",
     "output_type": "stream",
     "text": [
      "DataFrame size: 6\n",
      "DataFrame shape: (2, 3)\n"
     ]
    }
   ],
   "source": [
    "# create a sample DataFrame with 2 rows and 3 columns\n",
    "df = pd.DataFrame({'A': [1, 2], 'B': [3, 4], 'C': [5, 6]})\n",
    "\n",
    "# print the size and shape of the DataFrame\n",
    "print(\"DataFrame size:\", df.size)\n",
    "print(\"DataFrame shape:\", df.shape)"
   ]
  },
  {
   "cell_type": "markdown",
   "id": "a6748081-8a72-48d8-b595-115f108ddc4c",
   "metadata": {},
   "source": [
    "Q6) Which function of pandas do we use to read an excel file?"
   ]
  },
  {
   "cell_type": "code",
   "execution_count": null,
   "id": "93c45b35-9ea2-4afe-aa38-e226e3b5cc0a",
   "metadata": {},
   "outputs": [],
   "source": [
    "We use the read_excel() function of pandas to read an excel file. This function reads the data from an excel file and returns a pandas DataFrame.\n",
    "\n",
    "The basic syntax of read_excel() function is as follows:"
   ]
  },
  {
   "cell_type": "code",
   "execution_count": null,
   "id": "94785260-65d8-430c-bf5f-4b93f13b64ec",
   "metadata": {},
   "outputs": [],
   "source": [
    "pd.read_excel('file_name.xlsx', sheet_name='Sheet1')"
   ]
  },
  {
   "cell_type": "code",
   "execution_count": null,
   "id": "8a1eeb70-a3dc-479f-aca8-993a60067637",
   "metadata": {},
   "outputs": [],
   "source": [
    "Here, file_name.xlsx is the name of the excel file to be read, and Sheet1 is the name of the sheet to be read from the excel file. By default, Sheet1 is the first\n",
    "sheet of the excel file.\n",
    "\n",
    "We can also specify other parameters to customize how the excel file is read, such as specifying the range of cells to read, skipping rows or columns, specifying\n",
    "the data types of columns, and so on."
   ]
  },
  {
   "cell_type": "markdown",
   "id": "329847b1-56ad-46eb-94cd-0906c2cdb15d",
   "metadata": {},
   "source": [
    "Q7) You have a Pandas DataFrame df that contains a column named 'Email' that contains email\n",
    "addresses in the format 'username@domain.com'. Write a Python function that creates a new column\n",
    "'Username' in df that contains only the username part of each email address.\n",
    "The username is the part of the email address that appears before the '@' symbol. For example, if the\n",
    "email address is 'john.doe@example.com', the 'Username' column should contain 'john.doe'. Your\n",
    "function should extract the username from each email address and store it in the new 'Username' column."
   ]
  },
  {
   "cell_type": "code",
   "execution_count": null,
   "id": "fcf0279c-25bb-4814-bd54-6584c29c9d31",
   "metadata": {},
   "outputs": [],
   "source": [
    "The username is the part of the email address that appears before the '@' symbol. For example, if the email address is 'john.doe@example.com', the 'Username' \n",
    "column should contain 'john.doe'. Yourfunction should extract the username from each email address and store it in the new 'Username'column.\n",
    "\n",
    "Here's a Python function that creates a new 'Username' column in a Pandas DataFrame based on the 'Email' column:"
   ]
  },
  {
   "cell_type": "code",
   "execution_count": 13,
   "id": "759eed88-bd1a-4263-bb93-711085428657",
   "metadata": {},
   "outputs": [
    {
     "name": "stdout",
     "output_type": "stream",
     "text": [
      "                     Email     Username\n",
      "0     john.doe@example.com     john.doe\n",
      "1     jane.doe@example.com     jane.doe\n",
      "2  jimmy.smith@example.com  jimmy.smith\n"
     ]
    }
   ],
   "source": [
    "import pandas as pd\n",
    "\n",
    "# Function to extract username from email address\n",
    "def extract_username(email):\n",
    "    return email.split('@')[0]\n",
    "\n",
    "#Driver Code\n",
    "# Creating a sample DataFrame\n",
    "df = pd.DataFrame({'Email': ['john.doe@example.com', 'jane.doe@example.com', 'jimmy.smith@example.com']})\n",
    "\n",
    "# Creating a new 'Username' column by applying the 'extract_username' function to the 'Email' column\n",
    "df['Username'] = df['Email'].apply(extract_username)\n",
    "\n",
    "print(df)"
   ]
  },
  {
   "cell_type": "code",
   "execution_count": null,
   "id": "14c0d8ce-44f1-4058-bf79-62416129692e",
   "metadata": {},
   "outputs": [],
   "source": [
    "Q8) You have a Pandas DataFrame df with columns 'A', 'B', and 'C'. Write a Python function that selects\n",
    "all rows where the value in column 'A' is greater than 5 and the value in column 'B' is less than 10. The\n",
    "function should return a new DataFrame that contains only the selected rows.\n",
    "For example, if df contains the following values:\n",
    "A B C\n",
    "0 3 5 1\n",
    "1 8 2 7\n",
    "2 6 9 4\n",
    "3 2 3 5\n",
    "4 9 1 2\n",
    "Your function should select the following rows: A B C\n",
    "1 8 2 7\n",
    "4 9 1 2\n",
    "The function should return a new DataFrame that contains only the selected rows."
   ]
  },
  {
   "cell_type": "code",
   "execution_count": null,
   "id": "257e3c52-27c2-4138-8859-a022c6b9cb5b",
   "metadata": {},
   "outputs": [],
   "source": [
    "Your function should select the following rows: A B C 1 8 2 7 4 9 1 2\n",
    "\n",
    "The function should return a new DataFrame that contains only the selected rows.\n",
    "\n",
    "Here's the code for selecting the desired rows:"
   ]
  },
  {
   "cell_type": "code",
   "execution_count": 14,
   "id": "5d90d36a-a7a0-418e-9763-b6a1ccd1af7f",
   "metadata": {},
   "outputs": [
    {
     "name": "stdout",
     "output_type": "stream",
     "text": [
      "   A  B  C\n",
      "1  8  2  7\n",
      "2  6  9  4\n",
      "4  9  1  2\n"
     ]
    }
   ],
   "source": [
    "#Function for returing the new dataFrame of selected rows\n",
    "def select_rows(df):\n",
    "    selected_rows = df[(df['A'] > 5) & (df['B'] < 10)]\n",
    "    return selected_rows\n",
    "\n",
    "\n",
    "#Driver code\n",
    "# Creating a sample DataFrame\n",
    "df = pd.DataFrame({'A': [3, 8, 6, 2, 9],\n",
    "                   'B': [5, 2, 9, 3, 1],\n",
    "                   'C': [1, 7, 4, 5, 2]})\n",
    "\n",
    "new_df = select_rows(df)\n",
    "\n",
    "print(new_df)"
   ]
  },
  {
   "cell_type": "markdown",
   "id": "e963ce99-5c41-43b6-b681-7143e714d4d2",
   "metadata": {},
   "source": [
    "Q9) Given a Pandas DataFrame df with a column 'Values', write a Python function to calculate the mean,median, and standard deviation of the values in the 'Values' column."
   ]
  },
  {
   "cell_type": "code",
   "execution_count": 15,
   "id": "6bb05555-9cf4-4a66-890c-3d97ee7a47a3",
   "metadata": {},
   "outputs": [],
   "source": [
    "def calculate_stats(df):\n",
    "    # calculate the mean, median, and standard deviation of the 'Values' column\n",
    "    mean = df['Values'].mean()\n",
    "    median = df['Values'].median()\n",
    "    std_dev = df['Values'].std()\n",
    "\n",
    "    return mean, median, std_dev"
   ]
  },
  {
   "cell_type": "code",
   "execution_count": 16,
   "id": "04e8dffa-e033-45b5-be91-dbce9c67b129",
   "metadata": {},
   "outputs": [
    {
     "data": {
      "text/html": [
       "<div>\n",
       "<style scoped>\n",
       "    .dataframe tbody tr th:only-of-type {\n",
       "        vertical-align: middle;\n",
       "    }\n",
       "\n",
       "    .dataframe tbody tr th {\n",
       "        vertical-align: top;\n",
       "    }\n",
       "\n",
       "    .dataframe thead th {\n",
       "        text-align: right;\n",
       "    }\n",
       "</style>\n",
       "<table border=\"1\" class=\"dataframe\">\n",
       "  <thead>\n",
       "    <tr style=\"text-align: right;\">\n",
       "      <th></th>\n",
       "      <th>Values</th>\n",
       "    </tr>\n",
       "  </thead>\n",
       "  <tbody>\n",
       "    <tr>\n",
       "      <th>0</th>\n",
       "      <td>11</td>\n",
       "    </tr>\n",
       "    <tr>\n",
       "      <th>1</th>\n",
       "      <td>18</td>\n",
       "    </tr>\n",
       "    <tr>\n",
       "      <th>2</th>\n",
       "      <td>36</td>\n",
       "    </tr>\n",
       "    <tr>\n",
       "      <th>3</th>\n",
       "      <td>45</td>\n",
       "    </tr>\n",
       "    <tr>\n",
       "      <th>4</th>\n",
       "      <td>67</td>\n",
       "    </tr>\n",
       "  </tbody>\n",
       "</table>\n",
       "</div>"
      ],
      "text/plain": [
       "   Values\n",
       "0      11\n",
       "1      18\n",
       "2      36\n",
       "3      45\n",
       "4      67"
      ]
     },
     "execution_count": 16,
     "metadata": {},
     "output_type": "execute_result"
    }
   ],
   "source": [
    "df = pd.DataFrame({'Values': [11, 18, 36, 45, 67]})\n",
    "df"
   ]
  },
  {
   "cell_type": "code",
   "execution_count": 17,
   "id": "53ee276e-55c1-43dd-a56d-28e28a0fa4d3",
   "metadata": {},
   "outputs": [
    {
     "name": "stdout",
     "output_type": "stream",
     "text": [
      "Mean of Values is : 35.4\n",
      "Median of Values is : 36.0\n",
      "Standard Deviation of Values is : 22.3002\n"
     ]
    }
   ],
   "source": [
    "mean, median , stdev = calculate_stats(df)\n",
    "print(f'Mean of Values is : {mean}')\n",
    "print(f'Median of Values is : {median}')\n",
    "print(f'Standard Deviation of Values is : {round(stdev,4)}')"
   ]
  },
  {
   "cell_type": "code",
   "execution_count": null,
   "id": "9bcf1f65-f56e-48bf-be19-6e8fd3112ef1",
   "metadata": {},
   "outputs": [],
   "source": [
    "The calculate_stats() function takes in the DataFrame as an argument, selects the 'Values' column, and calculates the mean, median, and standard deviation of the\n",
    "values in that column using the np.mean(), np.median(), and np.std() functions respectively. The function then prints out the results to the console.\n",
    "\n",
    "Finally, the function is called with the sample DataFrame as an argument to calculate the mean, median, and standard deviation of the values in the 'Values'\n",
    "column."
   ]
  },
  {
   "cell_type": "markdown",
   "id": "e6f81ec3-8a30-498e-b8dd-6be51b541add",
   "metadata": {},
   "source": [
    "Q10) Given a Pandas DataFrame df with a column 'Sales' and a column 'Date', write a Python function to\n",
    "create a new column 'MovingAverage' that contains the moving average of the sales for the past 7 days\n",
    "for each row in the DataFrame. The moving average should be calculated using a window of size 7 and\n",
    "should include the current day."
   ]
  },
  {
   "cell_type": "code",
   "execution_count": null,
   "id": "147f5ac3-5939-40a8-835f-1861feb6f2e9",
   "metadata": {},
   "outputs": [],
   "source": [
    "Here's a Python function that creates a new column 'MovingAverage' that contains the moving average of the sales for the past 7 days for each row in the\n",
    "DataFrame:"
   ]
  },
  {
   "cell_type": "code",
   "execution_count": 18,
   "id": "cac50432-77f9-4545-98a3-cef4efc416f5",
   "metadata": {},
   "outputs": [
    {
     "name": "stdout",
     "output_type": "stream",
     "text": [
      "   Sales       Date  MovingAverage\n",
      "0     10 2022-01-01           10.0\n",
      "1     15 2022-01-02           12.5\n",
      "2     20 2022-01-03           15.0\n",
      "3     25 2022-01-04           17.5\n",
      "4     30 2022-01-05           20.0\n",
      "5     35 2022-01-06           22.5\n",
      "6     40 2022-01-07           25.0\n",
      "7     45 2022-01-08           30.0\n",
      "8     50 2022-01-09           35.0\n"
     ]
    }
   ],
   "source": [
    "import pandas as pd\n",
    "\n",
    "def moving_average(df):\n",
    "    # Sort the DataFrame by date\n",
    "    df = df.sort_values(by='Date')\n",
    "    \n",
    "    # Calculate the rolling mean with window size 7\n",
    "    df['MovingAverage'] = df['Sales'].rolling(window=7, min_periods=1).mean()\n",
    "    \n",
    "    return df\n",
    "\n",
    "\n",
    "#Driver Code\n",
    "# Create a sample DataFrame\n",
    "df = pd.DataFrame({'Sales': [10, 15, 20, 25, 30, 35, 40, 45, 50],\n",
    "                   'Date': pd.date_range('2022-01-01', periods=9)})\n",
    "\n",
    "# Calculate the moving average\n",
    "df = moving_average(df)\n",
    "\n",
    "# Print the result\n",
    "print(df)"
   ]
  },
  {
   "cell_type": "code",
   "execution_count": null,
   "id": "a63d0cb8-5975-495d-a5be-296d7d9d4666",
   "metadata": {},
   "outputs": [],
   "source": [
    "The function takes a Pandas DataFrame with columns 'Sales' and 'Date' as input. The function first sorts the DataFrame by date using the sort_values method, and\n",
    "then calculates the rolling mean with a window size of 7 using the rolling method and the mean method. The resulting moving average values are stored in a new \n",
    "'MovingAverage' column in the DataFrame. Finally, the function returns the modified DataFrame."
   ]
  },
  {
   "cell_type": "markdown",
   "id": "6d24dfe2-bedd-4ea2-89d4-e96a936149c3",
   "metadata": {},
   "source": [
    "Q11) You have a Pandas DataFrame df with a column 'Date'. Write a Python function that creates a new\n",
    "column 'Weekday' in the DataFrame. The 'Weekday' column should contain the weekday name (e.g.\n",
    "Monday, Tuesday) corresponding to each date in the 'Date' column.\n",
    "For example, if df contains the following values:\n",
    "Date\n",
    "0 2023-01-01\n",
    "1 2023-01-02\n",
    "2 2023-01-03\n",
    "3 2023-01-04\n",
    "4 2023-01-05\n",
    "Your function should create the following DataFrame:\n",
    "\n",
    "Date Weekday\n",
    "0 2023-01-01 Sunday\n",
    "1 2023-01-02 Monday\n",
    "2 2023-01-03 Tuesday\n",
    "3 2023-01-04 Wednesday\n",
    "4 2023-01-05 Thursday\n",
    "The function should return the modified DataFrame."
   ]
  },
  {
   "cell_type": "code",
   "execution_count": 19,
   "id": "610ea16c-ec63-4446-98f5-cc11e0534bf5",
   "metadata": {},
   "outputs": [],
   "source": [
    "def return_weekdays(df):\n",
    "\n",
    "    # Below changes String Date to datetime format\n",
    "    df['Date']=pd.to_datetime(df['Date'])\n",
    "\n",
    "    # below returns weekdays returns weekday\n",
    "    df['Weekday'] = df['Date'].dt.day_name()\n",
    "    return df"
   ]
  },
  {
   "cell_type": "code",
   "execution_count": 20,
   "id": "bb8a3b50-ddb0-432b-a882-b045dc45a196",
   "metadata": {},
   "outputs": [
    {
     "data": {
      "text/html": [
       "<div>\n",
       "<style scoped>\n",
       "    .dataframe tbody tr th:only-of-type {\n",
       "        vertical-align: middle;\n",
       "    }\n",
       "\n",
       "    .dataframe tbody tr th {\n",
       "        vertical-align: top;\n",
       "    }\n",
       "\n",
       "    .dataframe thead th {\n",
       "        text-align: right;\n",
       "    }\n",
       "</style>\n",
       "<table border=\"1\" class=\"dataframe\">\n",
       "  <thead>\n",
       "    <tr style=\"text-align: right;\">\n",
       "      <th></th>\n",
       "      <th>Date</th>\n",
       "    </tr>\n",
       "  </thead>\n",
       "  <tbody>\n",
       "    <tr>\n",
       "      <th>0</th>\n",
       "      <td>2023-01-01</td>\n",
       "    </tr>\n",
       "    <tr>\n",
       "      <th>1</th>\n",
       "      <td>2023-01-02</td>\n",
       "    </tr>\n",
       "    <tr>\n",
       "      <th>2</th>\n",
       "      <td>2023-01-03</td>\n",
       "    </tr>\n",
       "    <tr>\n",
       "      <th>3</th>\n",
       "      <td>2023-01-04</td>\n",
       "    </tr>\n",
       "    <tr>\n",
       "      <th>4</th>\n",
       "      <td>2023-01-05</td>\n",
       "    </tr>\n",
       "  </tbody>\n",
       "</table>\n",
       "</div>"
      ],
      "text/plain": [
       "         Date\n",
       "0  2023-01-01\n",
       "1  2023-01-02\n",
       "2  2023-01-03\n",
       "3  2023-01-04\n",
       "4  2023-01-05"
      ]
     },
     "execution_count": 20,
     "metadata": {},
     "output_type": "execute_result"
    }
   ],
   "source": [
    "df = pd.DataFrame({'Date':['2023-01-01','2023-01-02','2023-01-03','2023-01-04','2023-01-05']})\n",
    "df"
   ]
  },
  {
   "cell_type": "code",
   "execution_count": 21,
   "id": "1cf09962-2d2e-4334-a6a8-bd9e7434e4ac",
   "metadata": {},
   "outputs": [
    {
     "data": {
      "text/html": [
       "<div>\n",
       "<style scoped>\n",
       "    .dataframe tbody tr th:only-of-type {\n",
       "        vertical-align: middle;\n",
       "    }\n",
       "\n",
       "    .dataframe tbody tr th {\n",
       "        vertical-align: top;\n",
       "    }\n",
       "\n",
       "    .dataframe thead th {\n",
       "        text-align: right;\n",
       "    }\n",
       "</style>\n",
       "<table border=\"1\" class=\"dataframe\">\n",
       "  <thead>\n",
       "    <tr style=\"text-align: right;\">\n",
       "      <th></th>\n",
       "      <th>Date</th>\n",
       "      <th>Weekday</th>\n",
       "    </tr>\n",
       "  </thead>\n",
       "  <tbody>\n",
       "    <tr>\n",
       "      <th>0</th>\n",
       "      <td>2023-01-01</td>\n",
       "      <td>Sunday</td>\n",
       "    </tr>\n",
       "    <tr>\n",
       "      <th>1</th>\n",
       "      <td>2023-01-02</td>\n",
       "      <td>Monday</td>\n",
       "    </tr>\n",
       "    <tr>\n",
       "      <th>2</th>\n",
       "      <td>2023-01-03</td>\n",
       "      <td>Tuesday</td>\n",
       "    </tr>\n",
       "    <tr>\n",
       "      <th>3</th>\n",
       "      <td>2023-01-04</td>\n",
       "      <td>Wednesday</td>\n",
       "    </tr>\n",
       "    <tr>\n",
       "      <th>4</th>\n",
       "      <td>2023-01-05</td>\n",
       "      <td>Thursday</td>\n",
       "    </tr>\n",
       "  </tbody>\n",
       "</table>\n",
       "</div>"
      ],
      "text/plain": [
       "        Date    Weekday\n",
       "0 2023-01-01     Sunday\n",
       "1 2023-01-02     Monday\n",
       "2 2023-01-03    Tuesday\n",
       "3 2023-01-04  Wednesday\n",
       "4 2023-01-05   Thursday"
      ]
     },
     "execution_count": 21,
     "metadata": {},
     "output_type": "execute_result"
    }
   ],
   "source": [
    "df_new = return_weekdays(df)\n",
    "df_new"
   ]
  },
  {
   "cell_type": "markdown",
   "id": "22b9ca16-1642-4070-8e05-dbbf5d7ea718",
   "metadata": {},
   "source": [
    "Q12) Given a Pandas DataFrame df with a column 'Date' that contains timestamps, write a Python\n",
    "function to select all rows where the date is between '2023-01-01' and '2023-01-31'."
   ]
  },
  {
   "cell_type": "code",
   "execution_count": 22,
   "id": "2120dd65-a57b-44ef-9874-4841e9657e20",
   "metadata": {},
   "outputs": [
    {
     "name": "stdout",
     "output_type": "stream",
     "text": [
      "         Date\n",
      "0  2023-01-01\n",
      "1  2023-01-02\n",
      "2  2023-01-03\n",
      "3  2023-01-04\n",
      "4  2023-01-05\n",
      "5  2023-01-06\n",
      "6  2023-01-07\n",
      "7  2023-01-08\n",
      "8  2023-01-09\n",
      "9  2023-01-10\n",
      "10 2023-01-11\n",
      "11 2023-01-12\n",
      "12 2023-01-13\n",
      "13 2023-01-14\n",
      "14 2023-01-15\n",
      "15 2023-01-16\n",
      "16 2023-01-17\n",
      "17 2023-01-18\n",
      "18 2023-01-19\n",
      "19 2023-01-20\n",
      "20 2023-01-21\n",
      "21 2023-01-22\n",
      "22 2023-01-23\n",
      "23 2023-01-24\n",
      "24 2023-01-25\n",
      "25 2023-01-26\n",
      "26 2023-01-27\n",
      "27 2023-01-28\n",
      "28 2023-01-29\n",
      "29 2023-01-30\n",
      "30 2023-01-31\n"
     ]
    }
   ],
   "source": [
    "import pandas as pd\n",
    "\n",
    "# create function to select rows within date range\n",
    "def select_dates(df, start_date, end_date):\n",
    "    return df[(df['Date'] >= start_date) & (df['Date'] <= end_date)]\n",
    "\n",
    "\n",
    "\n",
    "# Driver Code\n",
    "# create dataframe with date range\n",
    "df = pd.DataFrame({\n",
    "    'Date': pd.date_range(start='2023-01-01', end='2023-02-28', freq='D')\n",
    "})\n",
    "\n",
    "# select rows within date range\n",
    "selected_df = select_dates(df, '2023-01-01', '2023-01-31')\n",
    "print(selected_df)"
   ]
  },
  {
   "cell_type": "code",
   "execution_count": null,
   "id": "38f96481-6cf2-43ea-b5f7-1e011e597555",
   "metadata": {},
   "outputs": [],
   "source": [
    "This will create a DataFrame df with a single column 'Date' that contains timestamps for each day between '2023-01-01' and '2023-02-28'. The select_dates()\n",
    "function takes in the DataFrame df as well as the start and end dates for the desired date range, and returns a new DataFrame selected_df containing only the rows\n",
    "within that date range."
   ]
  },
  {
   "cell_type": "markdown",
   "id": "8aeca544-b51d-480d-8dca-18daae275728",
   "metadata": {},
   "source": [
    "Q13) To use the basic functions of pandas, what is the first and foremost necessary library that needs to\n",
    "be imported?"
   ]
  },
  {
   "cell_type": "code",
   "execution_count": null,
   "id": "2fc141d0-0fa8-4063-92e5-cc67bc387f3c",
   "metadata": {},
   "outputs": [],
   "source": [
    "The first and foremost necessary library that needs to be imported to use the basic functions of pandas is pandas itself. You can import pandas using the \n",
    "following statement:"
   ]
  },
  {
   "cell_type": "code",
   "execution_count": 24,
   "id": "ffa89245-c84f-4247-bd50-5a5b744e4683",
   "metadata": {},
   "outputs": [],
   "source": [
    "import pandas as pd"
   ]
  },
  {
   "cell_type": "code",
   "execution_count": null,
   "id": "2d27ec19-2bb5-4839-ba7c-21b947c11f5e",
   "metadata": {},
   "outputs": [],
   "source": [
    "This statement imports the pandas library and gives it an alias pd, which is a common convention in the Python community. With this import statement, you can then\n",
    "use all the basic functions of pandas such as creating a DataFrame, manipulating data within a DataFrame, and performing various types of analyses and\n",
    "transformations on the data."
   ]
  }
 ],
 "metadata": {
  "kernelspec": {
   "display_name": "Python 3 (ipykernel)",
   "language": "python",
   "name": "python3"
  },
  "language_info": {
   "codemirror_mode": {
    "name": "ipython",
    "version": 3
   },
   "file_extension": ".py",
   "mimetype": "text/x-python",
   "name": "python",
   "nbconvert_exporter": "python",
   "pygments_lexer": "ipython3",
   "version": "3.10.8"
  }
 },
 "nbformat": 4,
 "nbformat_minor": 5
}
